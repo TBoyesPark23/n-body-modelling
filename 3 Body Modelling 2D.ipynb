{
 "cells": [
  {
   "cell_type": "markdown",
   "metadata": {},
   "source": [
    "# 3 Body Modelling - 2D\n",
    "\n",
    "\n",
    "Notebook for 3 body modelling calculations that are to be developed into N body calculations."
   ]
  },
  {
   "cell_type": "code",
   "execution_count": 27,
   "metadata": {},
   "outputs": [],
   "source": [
    "# Import requirements\n",
    "import numpy as np\n",
    "from scipy import integrate\n",
    "import matplotlib.pyplot as plt"
   ]
  },
  {
   "cell_type": "code",
   "execution_count": 313,
   "metadata": {},
   "outputs": [],
   "source": [
    "# Function that will be passed into the ode to update\n",
    "# spatial coordinates and velocites of 3 bodies\n",
    "\n",
    "def ThreeBodyFunction(t, r):\n",
    "    \n",
    "    dr = np.zeros(12)\n",
    "    \n",
    "    # Abritrary value for G and the masses of the bodies. Masses setup to produce\n",
    "    # elliptical orbits of 2 light bodies around a more massive one\n",
    "\n",
    "    G = 1\n",
    "    m1 = 1\n",
    "    m2 = 1\n",
    "    m3 = 3000\n",
    "    \n",
    "    xpos1 = r[0]\n",
    "    xvel1 = r[1]\n",
    "    ypos1 = r[2]\n",
    "    yvel1 = r[3]\n",
    "    xpos2 = r[4]\n",
    "    xvel2 = r[5]\n",
    "    ypos2 = r[6]\n",
    "    yvel2 = r[7]\n",
    "    xpos3 = r[8]\n",
    "    xvel3 = r[9]\n",
    "    ypos3 = r[10]\n",
    "    yvel3 = r[11]\n",
    "    \n",
    "    # We need 3 equations for the distance between bodies as we need the\n",
    "    # distance between 1 and 2, 1 and 3, and 2 and 3.\n",
    "\n",
    "    r_12 = ((xpos1-xpos2)**2 + (ypos1-ypos2)**2)**0.5\n",
    "    r_13 = ((xpos1-xpos3)**2 + (ypos1-ypos3)**2)**0.5\n",
    "    r_23 = ((xpos2-xpos3)**2 + (ypos2-ypos3)**2)**0.5\n",
    "\n",
    "    # Set of coupled differential equations for ode to solve\n",
    "\n",
    "    dxpos1 = xvel1\n",
    "    dr[0] = dxpos1\n",
    "\n",
    "    dxvel1 =  (-G*m2*(xpos1-xpos2))*(r_12)**(-3) + (-G*m3*(xpos1-xpos3))*(r_13)**(-3)\n",
    "        \n",
    "    dr[1] = dxvel1\n",
    "\n",
    "    dypos1 = yvel1\n",
    "    dr[2] = dypos1\n",
    "\n",
    "    dyvel1 = (-G*m2*(ypos1-ypos2))*(r_12)**(-3) + \\\n",
    "        (-G*m3*(ypos1-ypos3))*(r_13)**(-3)\n",
    "    dr[3] = dyvel1\n",
    "\n",
    "    dxpos2 = xvel2\n",
    "    dr[4] = dxpos2\n",
    "\n",
    "    dxvel2 = (-G*m1*(xpos2-xpos1))*(r_12)**(-3) + \\\n",
    "        (-G*m3*(xpos2-xpos3))*(r_23)**(-3)\n",
    "    dr[5] = dxvel2\n",
    "\n",
    "    dypos2 = yvel2\n",
    "    dr[6] = dypos2\n",
    "\n",
    "    dyvel2 = (-G*m1*(ypos2-ypos1))*(r_12)**(-3) + \\\n",
    "        (-G*m3*(ypos2-ypos3))*(r_23)**(-3)\n",
    "    dr[7] = dyvel2\n",
    "\n",
    "    dxpos3 = xvel3\n",
    "    dr[8] = dxpos3\n",
    "\n",
    "    dxvel3 = (-G*m1*(xpos3-xpos1))*(r_13)**(-3) + \\\n",
    "        (-G*m2*(xpos3-xpos2))*(r_23)**(-3)\n",
    "    dr[9] = dxvel3\n",
    "\n",
    "    dypos3 = yvel3\n",
    "    dr[10] = dypos3\n",
    "\n",
    "    dyvel3 = (-G*m1*(ypos3-ypos1))*(r_13)**(-3) + \\\n",
    "        (-G*m2*(ypos3-ypos2))*(r_23)**(-3)\n",
    "    dr[11] = dyvel3\n",
    "        \n",
    "    return dr"
   ]
  },
  {
   "cell_type": "code",
   "execution_count": 312,
   "metadata": {},
   "outputs": [],
   "source": [
    "class Body:\n",
    "    \n",
    "    def __init__(self, x, vx, y, vy, mass, name):\n",
    "        \n",
    "        self.x = x\n",
    "        self.y = y\n",
    "        self.vx = vx\n",
    "        self.vy = vy\n",
    "        self.mass = mass\n",
    "        self.name = name"
   ]
  },
  {
   "cell_type": "code",
   "execution_count": 399,
   "metadata": {},
   "outputs": [],
   "source": [
    "def NBodyFunc(t, posVelArray, bodies):\n",
    "    \n",
    "    # posVelArray = [body1_x, body1_vx, body1_y, body1_vy, body2_x, ...]\n",
    "    \n",
    "    # Set up array to store updated spatial and velocity values\n",
    "    dposVelArray = np.zeros(4 * len(bodies))\n",
    "        \n",
    "    # Arbritrary value for G (gravitational constant)\n",
    "    G = 1\n",
    "    \n",
    "    # Change in x, y is velocity in x, y\n",
    "    dposVelArray[0:len(dposVelArray):4] = posVelArray[1:len(posVelArray):4]\n",
    "    dposVelArray[2:len(dposVelArray):4] = posVelArray[3:len(posVelArray):4]\n",
    "    \n",
    "    # Loop through bodies, calculating change in vx, vy\n",
    "    # due to all other bodies\n",
    "    for i, body in enumerate(bodies):\n",
    "                        \n",
    "        # Extract x, y values of body\n",
    "        xposBody = posVelArray[i*4]\n",
    "        yposBody = posVelArray[i*4 + 2]\n",
    "        \n",
    "        dxvelBody = 0\n",
    "        dyvelBody = 0\n",
    "        \n",
    "        for j, otherBody in enumerate(bodies):\n",
    "            \n",
    "            # Check bodies aren't the same\n",
    "            if i != j:\n",
    "                \n",
    "                # Extract x, y & mass of other body\n",
    "                xposOtherBody = posVelArray[j*4]\n",
    "                yposOtherBody = posVelArray[j*4 + 2]\n",
    "                massOtherBody = otherBody.mass\n",
    "                \n",
    "                # Distance\n",
    "                r = ((xposBody-xposOtherBody)**2 + (yposBody-yposOtherBody)**2)**0.5\n",
    "                \n",
    "                # Change in vx, vy\n",
    "                dxvelBody +=  (-G*massOtherBody*(xposBody-xposOtherBody))*(r)**(-3)\n",
    "                dyvelBody +=  (-G*massOtherBody*(yposBody-yposOtherBody))*(r)**(-3)\n",
    "        \n",
    "        # Add resultant change in vel to array\n",
    "        dposVelArray[i*4 + 1] = dxvelBody\n",
    "        dposVelArray[i*4 + 3] = dyvelBody\n",
    "                \n",
    "            \n",
    "    return dposVelArray\n"
   ]
  },
  {
   "cell_type": "code",
   "execution_count": 428,
   "metadata": {},
   "outputs": [],
   "source": [
    "# Conditions for 2 light bodies orbiting a more massive one\n",
    "body1 = Body(50, 0, 0, 10, 1, 'body1')\n",
    "body2 = Body(-50, 0, 0, -10, 1, 'body2')\n",
    "body3 = Body(0, 0, 0, 0, 3000, 'body3')\n",
    "\n",
    "bodies = [body1, body2, body3]"
   ]
  },
  {
   "cell_type": "code",
   "execution_count": 429,
   "metadata": {},
   "outputs": [
    {
     "name": "stdout",
     "output_type": "stream",
     "text": [
      "[50, 0, 0, 10, -50, 0, 0, -10, 0, 0, 0, 0]\n"
     ]
    }
   ],
   "source": [
    "initial = []\n",
    "\n",
    "# Loop through bodies and create inital conditions to be passed\n",
    "# into the integrator below\n",
    "for body in bodies:\n",
    "    values = [body.x, body.vx, body.y, body.vy]\n",
    "    initial += values\n",
    "    \n",
    "print(initial)"
   ]
  },
  {
   "cell_type": "code",
   "execution_count": 439,
   "metadata": {},
   "outputs": [],
   "source": [
    "# Setup time interval and steps to iterate over\n",
    "t0 = 0\n",
    "t1 = 210.75\n",
    "t = np.linspace(t0, t1, 1000)"
   ]
  },
  {
   "cell_type": "code",
   "execution_count": 440,
   "metadata": {},
   "outputs": [],
   "source": [
    "# Array for solution\n",
    "y = np.zeros((len(t), len(bodies*4)))\n",
    "y[0, :] = initial\n",
    "\n",
    "# Setup integrator\n",
    "r = integrate.ode(NBodyFunc) \\\n",
    "        .set_integrator('dop853', rtol=1e-6, atol=1e-10) \\\n",
    "        .set_initial_value(initial, t0).set_f_params(bodies)\n",
    "\n",
    "# Iterate over time intervals and integrate\n",
    "for i in range(1, t.size):\n",
    "    # Store updated spatial coordinates and velocities of bodies\n",
    "    y[i, :] = r.integrate(t[i])"
   ]
  },
  {
   "cell_type": "code",
   "execution_count": 441,
   "metadata": {},
   "outputs": [
    {
     "data": {
      "image/png": "[encoded data removed]",
      "text/plain": [
       "<matplotlib.figure.Figure at 0x1513cf25f8>"
      ]
     },
     "metadata": {},
     "output_type": "display_data"
    }
   ],
   "source": [
    "# Plot results\n",
    "plt.figure(figsize=(15,10))\n",
    "plt.plot(y[:, 0], y[:, 2])\n",
    "plt.plot(y[:, 4], y[:, 6])\n",
    "plt.plot(y[:, 8], y[:, 10], 'o')\n",
    "plt.show()"
   ]
  },
  {
   "cell_type": "code",
   "execution_count": null,
   "metadata": {},
   "outputs": [],
   "source": []
  }
 ],
 "metadata": {
  "kernelspec": {
   "display_name": "Python 3",
   "language": "python",
   "name": "python3"
  },
  "language_info": {
   "codemirror_mode": {
    "name": "ipython",
    "version": 3
   },
   "file_extension": ".py",
   "mimetype": "text/x-python",
   "name": "python",
   "nbconvert_exporter": "python",
   "pygments_lexer": "ipython3",
   "version": "3.6.4"
  }
 },
 "nbformat": 4,
 "nbformat_minor": 2
}
